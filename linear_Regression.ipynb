import matplotlib.pyplot as plt
import numpy as np
data = [[20,30], [40,50], [60,70], [90,80]]

data_x = [data[i][0] for i in range(4)]
data_y = [data[i][1] for i in range(4)]
c = 0;
errors = []
for m in np.arange(0,2,.5):
    
    x= list(range(100))
    y = [(m*x)+c for x in x]

    for i in range(4):
        error+= data_y[i]- (m*data_x[i]+c)
   
    print(f'total error = {error}')
    errors.append(error)
    error=0

    plt.plot(data_x,data_y,'r*')
    plt.plot(x,y)
   
    print(f'm = {m}')
    plt.show()
    
print(errors)
